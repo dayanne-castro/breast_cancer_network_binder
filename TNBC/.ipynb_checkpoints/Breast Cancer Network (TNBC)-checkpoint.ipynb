{
 "cells": [
  {
   "cell_type": "markdown",
   "metadata": {},
   "source": [
    "# Breast Cancer Transcriptional Regulatory Network\n",
    "\n",
    "**Expression Data: ** \n",
    "- TCGA (Basal + Normal) RSEM counts, variance stabilizing transformation from DESeq2.   \n",
    "\n",
    "**Priors: ** \n",
    "- TRRUST, http://www.grnpedia.org/trrust/\n",
    "- Chromatin State data from Reg2Map, most recent analysis of human roadmap epigenomics project \n",
    "    - https://personal.broadinstitute.org/meuleman/reg2map/HoneyBadger2_release/)\n",
    "    - DNaseI regions selected with -log10(p) >= 10, promoters and enhancers annotated with ChromHMM\n",
    "    - Samples \n",
    "        - E027: Breast Myoepithelial Primary Cells\n",
    "        - E028: Breast variant Human Mammary Epithelial Cells (vHMEC)\n",
    "        - E119: HMEC Mammary Epithelial Primary Cells\n",
    "\n",
    "**Inferelator: **\n",
    "- Bayesian Best Subset Regresstion (BBSR)\n",
    "- TFA and prior weight set to 1.1\n",
    "- Conservative choice of regulators\n",
    "    - TF activity in TFcheckpoint database (~1K)\n",
    "    - TF in prior (~500)\n",
    "    - TF is expressed (at least 10 counts in more than one sample)"
   ]
  },
  {
   "cell_type": "markdown",
   "metadata": {},
   "source": [
    "## Full Network (100% bootstraps)"
   ]
  },
  {
   "cell_type": "code",
   "execution_count": 5,
   "metadata": {
    "collapsed": false
   },
   "outputs": [
    {
     "name": "stdout",
     "output_type": "stream",
     "text": [
      "('Reading network', './TNBC_tfsPrior.tsv')\n",
      "('Loading saved layout', './TNBC_tfsPrior.tsv.layout.json')\n",
      "Omitting edges, using canvas, and fast layout default because the network is large\n"
     ]
    }
   ],
   "source": [
    "import sys\n",
    "if \"..\" not in sys.path:\n",
    "    sys.path.append(\"..\")\n",
    "    \n",
    "from jp_gene_viz import dNetwork\n",
    "from jp_gene_viz import multiple_network\n",
    "\n",
    "dNetwork.load_javascript_support()\n",
    "\n",
    "network_file = './TNBC_tfsPrior.tsv'\n",
    "\n",
    "N = dNetwork.display_network(network_file, show = False, size_limit=2000)\n",
    "N.threshhold_slider.value = 12\n",
    "N.layout_dropdown.value = 'fruchterman_reingold'\n",
    "N.layout_click(None)\n",
    "N.labels_button.value = True\n",
    "#N.container_dropdown.value = 'SVG'\n",
    "N.title_html.value = 'TCGA'"
   ]
  },
  {
   "cell_type": "code",
   "execution_count": 6,
   "metadata": {
    "collapsed": true
   },
   "outputs": [],
   "source": [
    "N.show()"
   ]
  },
  {
   "cell_type": "code",
   "execution_count": null,
   "metadata": {
    "collapsed": true
   },
   "outputs": [],
   "source": []
  }
 ],
 "metadata": {
  "kernelspec": {
   "display_name": "Python 2",
   "language": "python",
   "name": "python2"
  },
  "language_info": {
   "codemirror_mode": {
    "name": "ipython",
    "version": 2
   },
   "file_extension": ".py",
   "mimetype": "text/x-python",
   "name": "python",
   "nbconvert_exporter": "python",
   "pygments_lexer": "ipython2",
   "version": "2.7.12"
  },
  "widgets": {
   "state": {
    "db07b5136f6649ba8bfd2f58761e78a0": {
     "views": [
      {
       "cell_index": 3
      }
     ]
    }
   },
   "version": "1.2.0"
  }
 },
 "nbformat": 4,
 "nbformat_minor": 0
}
