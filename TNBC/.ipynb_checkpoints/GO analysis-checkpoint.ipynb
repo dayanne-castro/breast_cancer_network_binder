{
 "cells": [
  {
   "cell_type": "markdown",
   "metadata": {},
   "source": [
    "# Gene Ontology Analysis\n",
    "\n",
    "**Goal: ** as a way of evaluating the network, look for function enrichment in TF targets."
   ]
  },
  {
   "cell_type": "markdown",
   "metadata": {},
   "source": [
    "## Read in network, and gene IDs"
   ]
  },
  {
   "cell_type": "code",
   "execution_count": 10,
   "metadata": {
    "collapsed": false
   },
   "outputs": [],
   "source": [
    "import pandas as pd\n",
    "\n",
    "gene_toID = {}\n",
    "ID_toGene = {}\n",
    "\n",
    "with open('./gene_name_to_gene_id_TCGA.txt', 'rb') as handle:\n",
    "    for line in handle:\n",
    "        line = line.strip().split('|')\n",
    "        if line[0] != '?':\n",
    "            gene_toID[line[0]] = line[1]\n",
    "            ID_toGene[line[1]] = line[0]\n",
    "            \n",
    "network_file = './TNBC_tfsPrior.tsv'\n",
    "network = pd.read_csv(network_file, sep = '\\t')\n",
    "network['bootstraps'] = network['beta.non.zero']*network['beta.sign.sum'].max()\n",
    "network = network.loc[network['bootstraps'].abs() >= 14,:]"
   ]
  },
  {
   "cell_type": "markdown",
   "metadata": {},
   "source": [
    "## Download and load gene ontology database"
   ]
  },
  {
   "cell_type": "code",
   "execution_count": null,
   "metadata": {
    "collapsed": false
   },
   "outputs": [
    {
     "name": "stdout",
     "output_type": "stream",
     "text": [
      "  EXISTS: go-basic.obo\n",
      "  EXISTS: gene2go\n",
      "load obo file go-basic.obo\n",
      "go-basic.obo: fmt(1.2) rel(2017-04-21) 48,571 GO Terms\n",
      "18,871 annotated human genes\n"
     ]
    }
   ],
   "source": [
    "# Get http://geneontology.org/ontology/go-basic.obo\n",
    "from goatools.base import download_go_basic_obo\n",
    "obo_fname = download_go_basic_obo()\n",
    "\n",
    "# Get ftp://ftp.ncbi.nlm.nih.gov/gene/DATA/gene2go.gz\n",
    "from goatools.base import download_ncbi_associations\n",
    "gene2go = download_ncbi_associations()\n",
    "\n",
    "from goatools.obo_parser import GODag\n",
    "obodag = GODag('go-basic.obo')\n",
    "\n",
    "from __future__ import print_function\n",
    "from goatools.associations import read_ncbi_gene2go\n",
    "from goatools.go_enrichment import GOEnrichmentStudy\n",
    "\n",
    "geneid2gos_human = read_ncbi_gene2go('gene2go', taxids=[9606])\n",
    "print('{N:,} annotated human genes'.format(N=len(geneid2gos_human)))"
   ]
  },
  {
   "cell_type": "markdown",
   "metadata": {
    "collapsed": false
   },
   "source": [
    "## For each group of TF targets, find enriched GO terms"
   ]
  },
  {
   "cell_type": "code",
   "execution_count": null,
   "metadata": {
    "collapsed": false
   },
   "outputs": [
    {
     "name": "stdout",
     "output_type": "stream",
     "text": [
      " 6,532 out of  6,806 population items found in association\n",
      "Calculating uncorrected p-values using fisher\n",
      "    15 out of     15 study items found in association\n"
     ]
    }
   ],
   "source": [
    "GOterm_dict = {}\n",
    "\n",
    "for regulator in network['regulator'].unique():\n",
    "    genes = list(set(network['target'].tolist() + network['regulator'].tolist()))\n",
    "    genes = [int(gene_toID[gene]) for gene in genes]\n",
    "    targets = network.loc[network['regulator'] == regulator, 'target']\n",
    "    targets = [int(gene_toID[target]) for target in targets]\n",
    "\n",
    "    goeaobj = GOEnrichmentStudy(\n",
    "            genes, # List of mouse protein-coding genes\n",
    "            geneid2gos_human, # geneid/GO associations\n",
    "            obodag, # Ontologies\n",
    "            propagate_counts = False,\n",
    "            alpha = 0.05, # default significance cut-off\n",
    "            methods = ['fdr_bh']) # defult multipletest correction method\n",
    "\n",
    "    goea_results_all = goeaobj.run_study(targets)\n",
    "    goea_results_sig = [r for r in goea_results_all if r.p_fdr_bh < 0.05]\n",
    "    \n",
    "    GOterm_df = []\n",
    "    for GOterm in goea_results_sig:\n",
    "        line = (regulator, GOterm.GO, GOterm.NS, GOterm.name, GOterm.p_fdr_bh, ','.join([ID_toGene[str(id)] for id in list(GOterm.study_items)]))\n",
    "        GOterm_df.append(line)\n",
    "    if len(GOterm_df) > 0:\n",
    "        GOterm_df = pd.DataFrame(GOterm_df, columns = ['regulator', 'GO', 'NS', 'name', 'FDR', 'genes'])\n",
    "        GOterm_dict[regulator] = GOterm_df.sort_values('FDR')"
   ]
  },
  {
   "cell_type": "code",
   "execution_count": null,
   "metadata": {
    "collapsed": true
   },
   "outputs": [],
   "source": [
    "GOterm_df = pd.concat(GOterm_dict.values())"
   ]
  },
  {
   "cell_type": "markdown",
   "metadata": {},
   "source": [
    "## Find Regulators involved in Cell Cycle"
   ]
  },
  {
   "cell_type": "code",
   "execution_count": null,
   "metadata": {
    "collapsed": false
   },
   "outputs": [],
   "source": [
    "GOterm_df = pd.concat(GOterm_dict.values())\n",
    "GOterm_df = GOterm_df.loc[GOterm_df['NS'] == 'BP',:]\n",
    "GOterm_df = GOterm_df.loc[GOterm_df['FDR'] <= 0.01,:]\n",
    "regulators = [list(set([row['regulator'] for idx, row in GOterm_df.iterrows() if 'cell cycle' in row['name']])),\n",
    "              list(set([row['regulator'] for idx, row in GOterm_df.iterrows() if 'mitot' in row['name']]))]\n",
    "regulators = sum(regulators, [])\n",
    "\n",
    "cell_cycle_df = GOterm_df.loc[GOterm_df['regulator'].isin(regulators),:]\n",
    "remove = ['GO:0061418', 'GO:0038095', 'GO:0000209', 'GO:0042776', 'GO:0031146', \n",
    "          'GO:0070125', 'GO:0006521', 'GO:0070126', 'GO:0038061', 'GO:0060071', \n",
    "          'GO:0031146', 'GO:0002479', 'GO:0061418', 'GO:0016446', 'GO:0016447', \n",
    "          'GO:0072711', 'GO:0016925', 'GO:0042787', 'GO:0006521', 'GO:0061418', \n",
    "          'GO:0051437', 'GO:0038061', 'GO:0031146', 'GO:0002479', 'GO:0090263', \n",
    "          'GO:0090090', 'GO:0060071', 'GO:0043488', 'GO:0002223', 'GO:0048704', \n",
    "          'GO:0038095', 'GO:0033209', 'GO:0000165', 'GO:0009952', 'GO:0050852', \n",
    "          'GO:0043161', 'GO:0070126', 'GO:0070125', 'GO:0000209'] # apopt'GO:0008630'\n",
    "cell_cycle_df = cell_cycle_df.loc[~cell_cycle_df['GO'].isin(remove)]\n",
    "\n",
    "regulators = cell_cycle_df['regulator'].unique()\n",
    "targets = list(set(sum([genes.split(',') for genes in cell_cycle_df['genes']], [])))\n",
    "#df = network.loc[network['regulator'].isin(regulators) & network['target'].isin(targets),:]\n",
    "df = network.loc[network['regulator'].isin(regulators),:]\n",
    "df.loc[:,'bootstraps'] = df.loc[:,'bootstraps'].astype(str)\n",
    "df.to_csv('cell_cycle_network.tsv', sep = '\\t', index = False, encoding = 'utf-8')"
   ]
  },
  {
   "cell_type": "code",
   "execution_count": 51,
   "metadata": {
    "collapsed": false
   },
   "outputs": [],
   "source": [
    "import sys\n",
    "if \"..\" not in sys.path:\n",
    "    sys.path.append(\"..\")\n",
    "    \n",
    "from jp_gene_viz import dNetwork\n",
    "from jp_gene_viz import multiple_network\n",
    "\n",
    "dNetwork.load_javascript_support()"
   ]
  },
  {
   "cell_type": "code",
   "execution_count": 53,
   "metadata": {
    "collapsed": false
   },
   "outputs": [
    {
     "name": "stdout",
     "output_type": "stream",
     "text": [
      "('Reading network', 'cell_cycle_network.tsv')\n",
      "('Loading saved layout', 'cell_cycle_network.tsv.layout.json')\n",
      "Omitting edges, using canvas, and fast layout default because the network is large\n"
     ]
    }
   ],
   "source": [
    "network_file = 'cell_cycle_network.tsv'\n",
    "N = dNetwork.display_network(network_file, show = False, size_limit = 900)\n",
    "N.threshhold_slider.value = 19\n",
    "N.connected_only_click(None)\n",
    "N.font_size_slider.value = 0\n",
    "N.tf_font_size_slider.value = 18\n",
    "N.expand_click(None)\n",
    "#N.layout_dropdown.value = 'fruchterman_reingold'\n",
    "N.layout_dropdown.value = 'kamada_kawai'\n",
    "N.labels_button.value = True\n",
    "N.layout_click(None)\n",
    "N.title_html.value = 'cell cycle'\n",
    "N.show()"
   ]
  },
  {
   "cell_type": "markdown",
   "metadata": {},
   "source": [
    "## Find Regulators involved in Communication with Immune System"
   ]
  },
  {
   "cell_type": "code",
   "execution_count": 41,
   "metadata": {
    "collapsed": false
   },
   "outputs": [],
   "source": [
    "GOterm_df = pd.concat(GOterm_dict.values())\n",
    "GOterm_df = pd.concat(GOterm_dict.values())\n",
    "GOterm_df = GOterm_df.loc[GOterm_df['NS'] == 'BP',:]\n",
    "GOterm_df = GOterm_df.loc[GOterm_df['FDR'] <= 0.01,:]\n",
    "\n",
    "GOterms = sum([[name for name in GOterm_df['name'] if 'natural killer' in name],\n",
    "              [name for name in GOterm_df['name'] if 'T cell' in name],\n",
    "              [name for name in GOterm_df['name'] if 'B cell' in name],\n",
    "              [name for name in GOterm_df['name'] if 'monocyte' in name],\n",
    "              [name for name in GOterm_df['name'] if 'neutrophil' in name],\n",
    "              [name for name in GOterm_df['name'] if 'dendritic' in name],\n",
    "              [name for name in GOterm_df['name'] if 'MHC class I' in name],\n",
    "              [name for name in GOterm_df['name'] if 'interferon' in name]], [])\n",
    "\n",
    "immune_cell_df = GOterm_df.loc[GOterm_df['name'].isin(GOterms),:]\n",
    "\n",
    "regulators = immune_cell_df['regulator'][~immune_cell_df['regulator'].isin(['E2F1', 'E2F5'])].unique() # checked manually, not the main enriched functions\n",
    "df = network.loc[network['regulator'].isin(regulators),:]\n",
    "df.loc[:,'bootstraps'] = df['bootstraps'].astype(str)\n",
    "df.to_csv('immune_cell.tsv', sep = '\\t', index = False, encoding = 'utf-8')"
   ]
  },
  {
   "cell_type": "code",
   "execution_count": 45,
   "metadata": {
    "collapsed": false
   },
   "outputs": [
    {
     "name": "stdout",
     "output_type": "stream",
     "text": [
      "('Reading network', 'immune_cell.tsv')\n",
      "('Loading saved layout', 'immune_cell.tsv.layout.json')\n",
      "Omitting edges, using canvas, and fast layout default because the network is large\n"
     ]
    }
   ],
   "source": [
    "network_file = 'immune_cell.tsv'\n",
    "\n",
    "N = dNetwork.display_network(network_file, show = False, size_limit=2000)\n",
    "N.threshhold_slider.value = 19\n",
    "N.connected_only_click(None)\n",
    "N.font_size_slider.value = 0\n",
    "N.tf_font_size_slider.value = 18\n",
    "N.layout_dropdown.value = 'kamada_kawai'\n",
    "N.expand_click(None)\n",
    "N.expand_click(None)\n",
    "N.labels_button.value = True\n",
    "N.layout_click(None)\n",
    "N.title_html.value = 'immune system communication'\n",
    "N.show()"
   ]
  },
  {
   "cell_type": "markdown",
   "metadata": {},
   "source": [
    "## Find Regulators involved in UPR"
   ]
  },
  {
   "cell_type": "code",
   "execution_count": 46,
   "metadata": {
    "collapsed": false
   },
   "outputs": [],
   "source": [
    "GOterm_df = pd.concat(GOterm_dict.values())\n",
    "GOterm_df = GOterm_df.loc[GOterm_df['NS'] == 'BP',:]\n",
    "GOterm_df = GOterm_df.loc[GOterm_df['FDR'] <= 0.01,:]\n",
    "\n",
    "GOterms = sum([[name for name in GOterm_df['name'] if 'unfold' in name],\n",
    "               [name for name in GOterm_df['name'] if 'ER lumen' in name],\n",
    "               [name for name in GOterm_df['name'] if 'ERAD' in name],\n",
    "               [name for name in GOterm_df['name'] if 'endoplasmic reticulum' in name]], [])\n",
    "\n",
    "UPR_df = GOterm_df.loc[GOterm_df['name'].isin(GOterms),:]\n",
    "\n",
    "regulators = UPR_df['regulator'].unique()\n",
    "df = network.loc[network['regulator'].isin(regulators),:]\n",
    "df.loc[:,'bootstraps'] = df['bootstraps'].astype(str)\n",
    "df.to_csv('UPR_network.tsv', sep = '\\t', index = False, encoding = 'utf-8')"
   ]
  },
  {
   "cell_type": "code",
   "execution_count": 48,
   "metadata": {
    "collapsed": false
   },
   "outputs": [
    {
     "name": "stdout",
     "output_type": "stream",
     "text": [
      "('Reading network', 'UPR_network.tsv')\n",
      "('Loading saved layout', 'UPR_network.tsv.layout.json')\n",
      "Omitting edges, using canvas, and fast layout default because the network is large\n"
     ]
    }
   ],
   "source": [
    "network_file = 'UPR_network.tsv'\n",
    "\n",
    "N = dNetwork.display_network(network_file, show = False, size_limit=150)\n",
    "N.threshhold_slider.value = 19\n",
    "N.font_size_slider.value = 0\n",
    "N.tf_font_size_slider.value = 15\n",
    "N.layout_dropdown.value = 'kamada_kawai'\n",
    "N.expand_click(None)\n",
    "N.labels_button.value = True\n",
    "N.layout_click(None)\n",
    "N.title_html.value = 'UPR'\n",
    "N.show()"
   ]
  },
  {
   "cell_type": "code",
   "execution_count": 9,
   "metadata": {
    "collapsed": false
   },
   "outputs": [
    {
     "data": {
      "text/html": [
       "<div>\n",
       "<table border=\"1\" class=\"dataframe\">\n",
       "  <thead>\n",
       "    <tr style=\"text-align: right;\">\n",
       "      <th></th>\n",
       "      <th>regulator</th>\n",
       "      <th>GO</th>\n",
       "      <th>NS</th>\n",
       "      <th>name</th>\n",
       "      <th>FDR</th>\n",
       "      <th>genes</th>\n",
       "    </tr>\n",
       "  </thead>\n",
       "  <tbody>\n",
       "    <tr>\n",
       "      <th>0</th>\n",
       "      <td>PAX5</td>\n",
       "      <td>GO:0051301</td>\n",
       "      <td>BP</td>\n",
       "      <td>cell division</td>\n",
       "      <td>0.02243</td>\n",
       "      <td>CHEK2,CDCA3,SKA1,CDCA8,FAM83D,OIP5,CKS2,TUBA1C...</td>\n",
       "    </tr>\n",
       "  </tbody>\n",
       "</table>\n",
       "</div>"
      ],
      "text/plain": [
       "  regulator          GO  NS           name      FDR  \\\n",
       "0      PAX5  GO:0051301  BP  cell division  0.02243   \n",
       "\n",
       "                                               genes  \n",
       "0  CHEK2,CDCA3,SKA1,CDCA8,FAM83D,OIP5,CKS2,TUBA1C...  "
      ]
     },
     "execution_count": 9,
     "metadata": {},
     "output_type": "execute_result"
    }
   ],
   "source": [
    "GOterm_df.loc[GOterm_df['regulator'] == 'PAX5',:]"
   ]
  },
  {
   "cell_type": "code",
   "execution_count": 68,
   "metadata": {
    "collapsed": false
   },
   "outputs": [
    {
     "data": {
      "text/plain": [
       "['mitochondrial respiratory chain complex III assembly',\n",
       " 'mitochondrial translational termination',\n",
       " 'mitochondrial translational elongation',\n",
       " 'mitochondrial respiratory chain complex I assembly',\n",
       " 'mitochondrial electron transport, NADH to ubiquinone']"
      ]
     },
     "execution_count": 68,
     "metadata": {},
     "output_type": "execute_result"
    }
   ],
   "source": [
    "GOterms = sum([[name for name in GOterm_df['name'] if 'mitoc' in name],\n",
    "               [name for name in GOterm_df['name'] if '--' in name],\n",
    "               [name for name in GOterm_df['name'] if '--' in name]], [])\n",
    "GOterms"
   ]
  },
  {
   "cell_type": "code",
   "execution_count": 70,
   "metadata": {
    "collapsed": false
   },
   "outputs": [
    {
     "data": {
      "text/plain": [
       "array(['response to unfolded protein', 'protein refolding',\n",
       "       'hydrogen ion transmembrane transport',\n",
       "       'mitochondrial respiratory chain complex III assembly',\n",
       "       'viral transcription', 'translational initiation',\n",
       "       'SRP-dependent cotranslational protein targeting to membrane',\n",
       "       'translation', 'rRNA processing',\n",
       "       'nuclear-transcribed mRNA catabolic process, nonsense-mediated decay',\n",
       "       'ribosomal small subunit assembly', 'cytoplasmic translation',\n",
       "       'ribosomal large subunit assembly', 'cornification',\n",
       "       'keratinization', 'epidermis development', 'chromosome segregation',\n",
       "       'mitotic nuclear division', 'cell division',\n",
       "       'mitotic sister chromatid segregation', 'sister chromatid cohesion',\n",
       "       'microtubule-based movement', 'antimicrobial humoral response',\n",
       "       'negative regulation of growth', 'cellular response to zinc ion',\n",
       "       'positive regulation of telomerase RNA localization to Cajal body',\n",
       "       'positive regulation of protein localization to Cajal body',\n",
       "       'positive regulation of establishment of protein localization to telomere',\n",
       "       'protein stabilization', \"'de novo' protein folding\",\n",
       "       'chaperone-mediated protein complex assembly', 'gene expression',\n",
       "       'positive regulation of telomere maintenance via telomerase',\n",
       "       'cellular detoxification of nitrogen compound',\n",
       "       'nitrobenzene metabolic process',\n",
       "       'glutathione derivative biosynthetic process',\n",
       "       'xenobiotic catabolic process', 'glutathione metabolic process',\n",
       "       'regulation of transcription, DNA-templated',\n",
       "       'transcription, DNA-templated',\n",
       "       'cell adhesion mediated by integrin',\n",
       "       'extracellular matrix organization', 'oxygen transport',\n",
       "       'positive regulation of cell death', 'bicarbonate transport',\n",
       "       'cilium movement', 'cilium assembly',\n",
       "       'cilium movement involved in cell motility',\n",
       "       'collagen catabolic process', 'collagen fibril organization',\n",
       "       'protein heterotrimerization', 'cell adhesion',\n",
       "       'skeletal system development', 'skin development',\n",
       "       'intraciliary transport involved in cilium assembly',\n",
       "       'inner dynein arm assembly', 'motile cilium assembly',\n",
       "       'epithelial cilium movement', 'regulation of cilium beat frequency',\n",
       "       'T cell receptor signaling pathway',\n",
       "       'Fc-epsilon receptor signaling pathway', 'visual perception',\n",
       "       'circadian regulation of gene expression',\n",
       "       'DNA unwinding involved in DNA replication',\n",
       "       'DNA replication initiation', 'DNA replication', 'NADH oxidation',\n",
       "       'mineralocorticoid biosynthetic process',\n",
       "       'glucocorticoid biosynthetic process',\n",
       "       'androgen biosynthetic process',\n",
       "       'high-density lipoprotein particle remodeling',\n",
       "       'cholesterol metabolic process', 'lipoprotein metabolic process',\n",
       "       'phospholipid efflux',\n",
       "       'low-density lipoprotein particle remodeling',\n",
       "       'reverse cholesterol transport', 'cholesterol efflux',\n",
       "       'very-low-density lipoprotein particle clearance',\n",
       "       'triglyceride metabolic process',\n",
       "       'cellular response to transforming growth factor beta stimulus',\n",
       "       'negative regulation of JAK-STAT cascade', 'mitotic cytokinesis',\n",
       "       'G2/M transition of mitotic cell cycle',\n",
       "       'regulation of ubiquitin-protein ligase activity involved in mitotic cell cycle',\n",
       "       'immune response', 'triglyceride biosynthetic process',\n",
       "       'lipid storage', 'interferon-gamma-mediated signaling pathway',\n",
       "       'antigen processing and presentation of exogenous peptide antigen via MHC class II',\n",
       "       'T cell costimulation',\n",
       "       'peptide antigen assembly with MHC class II protein complex',\n",
       "       'polysaccharide assembly with MHC class II protein complex',\n",
       "       'defense response to virus', 'response to virus',\n",
       "       'negative regulation of viral genome replication',\n",
       "       'positive regulation of interferon-alpha production',\n",
       "       'innate immune response', 'response to interferon-beta',\n",
       "       'type I interferon signaling pathway', 'protein trimerization',\n",
       "       'regulation of immune response', 'adaptive immune response',\n",
       "       'inflammatory response', 'cell surface receptor signaling pathway',\n",
       "       'positive regulation of natural killer cell mediated cytotoxicity',\n",
       "       'antigen processing and presentation of peptide antigen via MHC class I',\n",
       "       'antigen processing and presentation of endogenous peptide antigen via MHC class I',\n",
       "       'positive regulation of T cell proliferation', 'T cell activation',\n",
       "       'chemokine-mediated signaling pathway', 'apoptotic process',\n",
       "       'positive regulation of I-kappaB kinase/NF-kappaB signaling',\n",
       "       'cytolysis', 'natural killer cell activation',\n",
       "       'negative thymic T cell selection',\n",
       "       'tumor necrosis factor-mediated signaling pathway',\n",
       "       'response to lipopolysaccharide',\n",
       "       'positive regulation of T cell mediated cytotoxicity',\n",
       "       'positive regulation of defense response to virus by host',\n",
       "       'positive regulation of T cell differentiation',\n",
       "       'signal transduction',\n",
       "       'antigen processing and presentation of exogenous peptide antigen via MHC class I, TAP-dependent',\n",
       "       'positive regulation of natural killer cell mediated cytotoxicity directed against tumor cell target',\n",
       "       'positive regulation of dendritic cell chemotaxis',\n",
       "       'cell-cell signaling', 'humoral immune response',\n",
       "       'positive regulation of interferon-gamma production',\n",
       "       'antigen processing and presentation of exogenous peptide antigen via MHC class I, TAP-independent',\n",
       "       'cellular defense response',\n",
       "       'transmembrane receptor protein tyrosine kinase signaling pathway',\n",
       "       'positive regulation of viral entry into host cell',\n",
       "       'defense response',\n",
       "       'negative regulation of type I interferon production',\n",
       "       'cellular response to lipopolysaccharide',\n",
       "       'cellular response to interferon-gamma',\n",
       "       'negative regulation of T cell proliferation',\n",
       "       'defense response to protozoan',\n",
       "       'positive regulation of interleukin-17 production',\n",
       "       'negative regulation of interleukin-12 production',\n",
       "       'T cell chemotaxis', 'defense response to bacterium',\n",
       "       'positive regulation of tumor necrosis factor production',\n",
       "       'chemotaxis', 'negative regulation of growth of symbiont in host',\n",
       "       'neutrophil chemotaxis',\n",
       "       'positive regulation of natural killer cell chemotaxis',\n",
       "       'positive regulation of interleukin-10 production',\n",
       "       'response to interferon-gamma',\n",
       "       'cellular response to interleukin-1',\n",
       "       'positive regulation of ERK1 and ERK2 cascade',\n",
       "       'monocyte chemotaxis',\n",
       "       'G-protein coupled receptor signaling pathway',\n",
       "       'negative regulation of interleukin-10 production',\n",
       "       'positive regulation of interleukin-4 production',\n",
       "       'cellular response to amino acid stimulus',\n",
       "       'extracellular matrix disassembly', 'neutrophil degranulation',\n",
       "       'leukocyte migration',\n",
       "       'complement receptor mediated signaling pathway',\n",
       "       'negative regulation of interleukin-12 secretion',\n",
       "       'integrin-mediated signaling pathway',\n",
       "       'phospholipase C-activating G-protein coupled receptor signaling pathway',\n",
       "       'negative regulation of B cell proliferation',\n",
       "       'T cell proliferation involved in immune response',\n",
       "       'negative regulation of epithelial to mesenchymal transition',\n",
       "       'blood coagulation, fibrin clot formation',\n",
       "       'positive regulation of peptide hormone secretion',\n",
       "       'plasminogen activation', 'protein polymerization',\n",
       "       'positive regulation of heterotypic cell-cell adhesion',\n",
       "       'fibrinolysis', 'positive regulation of exocytosis',\n",
       "       'cellular protein complex assembly',\n",
       "       'negative regulation of endothelial cell apoptotic process',\n",
       "       'positive regulation of vasoconstriction',\n",
       "       'positive regulation of substrate adhesion-dependent cell spreading',\n",
       "       'positive regulation of protein secretion',\n",
       "       'negative regulation of extrinsic apoptotic signaling pathway via death domain receptors',\n",
       "       'platelet aggregation', 'induction of bacterial agglutination',\n",
       "       'toll-like receptor signaling pathway', 'response to calcium ion',\n",
       "       'cell-matrix adhesion', 'toll-like receptor 4 signaling pathway',\n",
       "       'positive regulation of B cell proliferation',\n",
       "       'positive regulation of tumor necrosis factor biosynthetic process',\n",
       "       'B cell proliferation',\n",
       "       'lipopolysaccharide-mediated signaling pathway',\n",
       "       'B cell receptor signaling pathway',\n",
       "       'response to type I interferon', 'regulation of vasculogenesis',\n",
       "       'umbilical cord morphogenesis',\n",
       "       'negative regulation of transcription from RNA polymerase II promoter involved in smooth muscle cell differentiation',\n",
       "       'arterial endothelial cell differentiation',\n",
       "       'Notch signaling involved in heart development',\n",
       "       'dorsal aorta morphogenesis', 'cardiac septum morphogenesis',\n",
       "       'pulmonary valve morphogenesis', 'cardiac ventricle morphogenesis',\n",
       "       'cardiac epithelial to mesenchymal transition',\n",
       "       'heart trabecula formation',\n",
       "       'negative regulation of transcription regulatory region DNA binding',\n",
       "       'labyrinthine layer blood vessel development',\n",
       "       'negative regulation of Notch signaling pathway',\n",
       "       'histone acetylation', 'regulation of gene silencing',\n",
       "       'chromatin silencing',\n",
       "       'DNA replication-dependent nucleosome assembly',\n",
       "       'nucleosome assembly', 'chromatin organization',\n",
       "       'innate immune response in mucosa', 'chromatin silencing at rDNA',\n",
       "       'gene silencing by RNA',\n",
       "       'positive regulation of gene expression, epigenetic',\n",
       "       'cellular protein metabolic process',\n",
       "       'antibacterial humoral response', 'blood coagulation',\n",
       "       'protein heterotetramerization', 'telomere organization',\n",
       "       'negative regulation of gene expression, epigenetic',\n",
       "       'negative regulation of megakaryocyte differentiation',\n",
       "       'defense response to Gram-positive bacterium', 'telomere capping',\n",
       "       'DNA replication-independent nucleosome assembly',\n",
       "       'protein ubiquitination', 'DNA-templated transcription, initiation',\n",
       "       'CENP-A containing nucleosome assembly',\n",
       "       'beta-catenin-TCF complex assembly',\n",
       "       'histone H3-K27 trimethylation',\n",
       "       'double-strand break repair via nonhomologous end joining',\n",
       "       'nucleosome positioning', 'histone H3-K4 trimethylation',\n",
       "       'behavioral response to nicotine',\n",
       "       'synaptic transmission, cholinergic',\n",
       "       'excitatory postsynaptic potential',\n",
       "       'synaptic transmission involved in micturition',\n",
       "       'anterior/posterior pattern specification',\n",
       "       'embryonic skeletal system morphogenesis',\n",
       "       'positive regulation of NK T cell proliferation',\n",
       "       'positive regulation of GTPase activity',\n",
       "       'myeloid dendritic cell differentiation',\n",
       "       'intracellular signal transduction',\n",
       "       'regulation of small GTPase mediated signal transduction',\n",
       "       'positive regulation of T-helper 17 cell lineage commitment',\n",
       "       'positive regulation of NF-kappaB transcription factor activity',\n",
       "       'mitochondrial translational termination',\n",
       "       'mitochondrial translational elongation', 'cell chemotaxis',\n",
       "       'intestinal cholesterol absorption',\n",
       "       'cholesterol biosynthetic process',\n",
       "       'positive regulation of cellular metabolic process',\n",
       "       'long-chain fatty-acyl-CoA biosynthetic process',\n",
       "       'oxidation-reduction process', 'isoprenoid biosynthetic process',\n",
       "       'lipid metabolic process', 'angiogenesis',\n",
       "       'keratinocyte differentiation', 'peptide cross-linking',\n",
       "       'cellular response to hormone stimulus', 'response to cAMP',\n",
       "       'positive regulation of transcription from RNA polymerase II promoter',\n",
       "       'cellular response to calcium ion', 'response to cytokine',\n",
       "       'response to mechanical stimulus', 'response to radiation',\n",
       "       'regulation of cell death', 'response to drug',\n",
       "       'positive regulation of cell differentiation',\n",
       "       'positive regulation of tyrosine phosphorylation of Stat3 protein',\n",
       "       'transcription from RNA polymerase II promoter',\n",
       "       'skeletal muscle cell differentiation',\n",
       "       'IRE1-mediated unfolded protein response',\n",
       "       'response to endoplasmic reticulum stress',\n",
       "       'cell redox homeostasis', 'protein folding',\n",
       "       'protein folding in endoplasmic reticulum',\n",
       "       'ATF6-mediated unfolded protein response',\n",
       "       'maturation of SSU-rRNA from tricistronic rRNA transcript (SSU-rRNA, 5.8S rRNA, LSU-rRNA)',\n",
       "       'ribosomal large subunit biogenesis',\n",
       "       'negative regulation of protein neddylation',\n",
       "       'regulation of hair cycle',\n",
       "       'negative regulation of glucocorticoid receptor signaling pathway',\n",
       "       'flavone metabolic process', 'xenobiotic glucuronidation',\n",
       "       'flavonoid glucuronidation', 'retinoic acid metabolic process',\n",
       "       'cellular glucuronidation',\n",
       "       'negative regulation of catalytic activity',\n",
       "       'G1/S transition of mitotic cell cycle', 'regulation of cell cycle',\n",
       "       'DNA repair', 'telomere maintenance via recombination',\n",
       "       'mitotic spindle organization', 'cell proliferation',\n",
       "       'DNA synthesis involved in DNA repair', 'cytokinesis',\n",
       "       'mitotic metaphase plate congression', 'centriole replication',\n",
       "       'mitotic spindle midzone assembly',\n",
       "       'regulation of transcription involved in G1/S transition of mitotic cell cycle',\n",
       "       'double-strand break repair via homologous recombination',\n",
       "       'positive regulation of cytokinesis', 'G-quadruplex DNA unwinding',\n",
       "       'metaphase plate congression',\n",
       "       'DNA damage response, signal transduction by p53 class mediator resulting in cell cycle arrest',\n",
       "       'mitotic spindle assembly checkpoint', 'spindle organization',\n",
       "       'kinetochore assembly', 'telomere maintenance',\n",
       "       'mitotic chromosome condensation',\n",
       "       'retrograde vesicle-mediated transport, Golgi to ER',\n",
       "       'DNA biosynthetic process', 'microtubule depolymerization',\n",
       "       'mitotic spindle assembly',\n",
       "       'regulation of mitotic metaphase/anaphase transition',\n",
       "       'protein localization to kinetochore', 'double-strand break repair',\n",
       "       'regulation of chromosome segregation',\n",
       "       'regulation of cyclin-dependent protein serine/threonine kinase activity',\n",
       "       'negative regulation of ubiquitin-protein ligase activity involved in mitotic cell cycle',\n",
       "       'positive regulation of ubiquitin-protein ligase activity involved in regulation of mitotic cell cycle transition',\n",
       "       'nucleotide-excision repair, DNA gap filling',\n",
       "       'anaphase-promoting complex-dependent catabolic process',\n",
       "       'meiotic sister chromatid cohesion, centromeric', 'DNA ligation',\n",
       "       'positive regulation of ubiquitin protein ligase activity',\n",
       "       'strand displacement', 'mismatch repair',\n",
       "       'mitotic cell cycle checkpoint', 'cell cycle phase transition',\n",
       "       'meiotic chromosome segregation', 'interstrand cross-link repair',\n",
       "       'mitotic nuclear envelope disassembly',\n",
       "       'regulation of signal transduction by p53 class mediator',\n",
       "       'cellular response to DNA damage stimulus',\n",
       "       'DNA strand elongation involved in DNA replication',\n",
       "       'DNA duplex unwinding', 'meiotic nuclear division',\n",
       "       'translesion synthesis', 'protein sumoylation',\n",
       "       'kinetochore organization', 'meiotic chromosome condensation',\n",
       "       'regulation of G2/M transition of mitotic cell cycle',\n",
       "       'regulation of attachment of spindle microtubules to kinetochore',\n",
       "       'attachment of mitotic spindle microtubules to kinetochore',\n",
       "       'attachment of spindle microtubules to kinetochore',\n",
       "       'positive regulation of DNA-directed DNA polymerase activity',\n",
       "       'response to ionizing radiation', 'G2 DNA damage checkpoint',\n",
       "       'intrinsic apoptotic signaling pathway in response to DNA damage',\n",
       "       'mitotic recombination',\n",
       "       'regulation of mitotic centrosome separation',\n",
       "       'error-prone translesion synthesis', 'histone phosphorylation',\n",
       "       'reciprocal meiotic recombination',\n",
       "       'regulation of mitotic nuclear division',\n",
       "       'ciliary basal body docking',\n",
       "       'DNA damage response, detection of DNA damage',\n",
       "       'protein ubiquitination involved in ubiquitin-dependent protein catabolic process',\n",
       "       'synapsis', 'mitotic centrosome separation',\n",
       "       'positive regulation of B cell differentiation',\n",
       "       'positive regulation of Rho protein signal transduction',\n",
       "       'B cell activation',\n",
       "       'positive regulation of interleukin-12 production',\n",
       "       'T cell differentiation',\n",
       "       'positive regulation of cytosolic calcium ion concentration',\n",
       "       'heterophilic cell-cell adhesion via plasma membrane cell adhesion molecules',\n",
       "       'positive regulation of T cell chemotaxis',\n",
       "       'endodermal cell differentiation',\n",
       "       'homophilic cell adhesion via plasma membrane adhesion molecules',\n",
       "       'cell migration', 'negative regulation of T cell apoptotic process',\n",
       "       'positive regulation of interferon-gamma secretion',\n",
       "       'positive regulation of cytosolic calcium ion concentration involved in phospholipase C-activating G-protein coupled signaling pathway',\n",
       "       'mitochondrial respiratory chain complex I assembly',\n",
       "       'mitochondrial electron transport, NADH to ubiquinone',\n",
       "       'protein N-linked glycosylation via asparagine',\n",
       "       'ER to Golgi vesicle-mediated transport',\n",
       "       'ubiquitin-dependent ERAD pathway', 'protein retention in ER lumen'], dtype=object)"
      ]
     },
     "execution_count": 70,
     "metadata": {},
     "output_type": "execute_result"
    }
   ],
   "source": [
    "GOterm_df['name'].unique()"
   ]
  },
  {
   "cell_type": "code",
   "execution_count": null,
   "metadata": {
    "collapsed": true
   },
   "outputs": [],
   "source": [
    "# Not really working... COLORIZING\n",
    "def network_config(N, gene_list_file, title, threshhold):\n",
    "    N.threshhold_slider.value = threshhold\n",
    "    N.apply_click(None)\n",
    "    geneIn = open(gene_list_file)\n",
    "    gene_list = []\n",
    "    for gene in geneIn:\n",
    "        gene_list.append(gene.strip('\\n').lower())\n",
    "    geneIn.close()\n",
    "    N.pattern_text.value = ' '.join(gene_list)\n",
    "    N.match_click(None)\n",
    "    N.targeted_click(None)\n",
    "    #N.expand_click(None)\n",
    "    N5.tf_only_click()\n",
    "    N.connected_only_click(None)\n",
    "    N.layout_dropdown.value = 'kamada_kawai'\n",
    "    #N.layout_dropdown.value = 'fruchterman_reingold'\n",
    "    N.layout_click(None)\n",
    "    N.labels_button.value = True\n",
    "    N.labels_click(None)\n",
    "    N.title_html.value = title\n",
    "    \n",
    "    # color nodes:\n",
    "    gene_colors = {}\n",
    "    \n",
    "    files = [('basal_A.txt', 0),\n",
    "             ('basal_B.txt', 5),\n",
    "             ('Her2.txt', 2),\n",
    "             ('non-Her2.txt', 4)]\n",
    "    \n",
    "    for filename, idx in files:\n",
    "        geneIn = open(filename)\n",
    "        for gene in geneIn:\n",
    "            gene = gene.strip('\\n')\n",
    "            gene_colors[gene] = idx\n",
    "        geneIn.close()\n",
    "\n",
    "    node_colors = N.display_graph.node_weights\n",
    "    \n",
    "    for key in node_colors.keys():\n",
    "        if key in gene_colors:\n",
    "            node_colors[key] = gene_colors[key]\n",
    "        else:\n",
    "            node_colors[key] = 9\n",
    "    dNetwork.set_node_color_levels(N)\n",
    "    \n",
    "    return(N)\n",
    "\n",
    "#N5 = dNetwork.display_network('network_breast_cancer_Marcotte2016_BBSR1.1_combinedPriors_TfsPriors.tsv', show = False)\n",
    "#N5 = network_config(N5, 'genes_subtypes_all.txt', '', 11)"
   ]
  }
 ],
 "metadata": {
  "kernelspec": {
   "display_name": "Python 2",
   "language": "python",
   "name": "python2"
  },
  "language_info": {
   "codemirror_mode": {
    "name": "ipython",
    "version": 2
   },
   "file_extension": ".py",
   "mimetype": "text/x-python",
   "name": "python",
   "nbconvert_exporter": "python",
   "pygments_lexer": "ipython2",
   "version": "2.7.12"
  }
 },
 "nbformat": 4,
 "nbformat_minor": 1
}
